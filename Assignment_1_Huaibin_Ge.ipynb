{
 "cells": [
  {
   "cell_type": "markdown",
   "metadata": {},
   "source": [
    "# Huaibin Ge"
   ]
  },
  {
   "cell_type": "code",
   "execution_count": 1,
   "metadata": {},
   "outputs": [],
   "source": [
    "import pandas as pd\n",
    "import numpy as np\n",
    "import math\n",
    "import copy\n",
    "import csv"
   ]
  },
  {
   "cell_type": "markdown",
   "metadata": {},
   "source": [
    "# Part I"
   ]
  },
  {
   "cell_type": "markdown",
   "metadata": {},
   "source": [
    "## A"
   ]
  },
  {
   "cell_type": "markdown",
   "metadata": {},
   "source": [
    "## 1. Scratch Multinomial classifier with laplace smothing"
   ]
  },
  {
   "cell_type": "code",
   "execution_count": 2,
   "metadata": {},
   "outputs": [],
   "source": [
    "train_data = pd.read_csv('./hw1_trainingset.csv')\n",
    "test_data = pd.read_csv('./hw1_testset.csv')"
   ]
  },
  {
   "cell_type": "code",
   "execution_count": 3,
   "metadata": {},
   "outputs": [],
   "source": [
    "# validation_data = pd.read_csv('hw1_validationset.csv')\n",
    "# vfeatures, vlabels = validation_data.drop(['Label'],axis=1), np.array(validation_data['Label'], header = False)"
   ]
  },
  {
   "cell_type": "code",
   "execution_count": 4,
   "metadata": {},
   "outputs": [],
   "source": [
    "train_DV = train_data['Label']\n",
    "train_IVs = train_data.drop(columns = ['Label'])"
   ]
  },
  {
   "cell_type": "code",
   "execution_count": 5,
   "metadata": {},
   "outputs": [
    {
     "data": {
      "text/plain": [
       "False"
      ]
     },
     "execution_count": 5,
     "metadata": {},
     "output_type": "execute_result"
    }
   ],
   "source": [
    "train_data.isnull().values.any()"
   ]
  },
  {
   "cell_type": "code",
   "execution_count": 6,
   "metadata": {},
   "outputs": [
    {
     "data": {
      "text/plain": [
       "False"
      ]
     },
     "execution_count": 6,
     "metadata": {},
     "output_type": "execute_result"
    }
   ],
   "source": [
    "test_data.isnull().values.any()"
   ]
  },
  {
   "cell_type": "code",
   "execution_count": 7,
   "metadata": {},
   "outputs": [],
   "source": [
    "# test_data.iloc[0,1]"
   ]
  },
  {
   "cell_type": "code",
   "execution_count": 8,
   "metadata": {},
   "outputs": [],
   "source": [
    "# unique, counts = np.unique(feature[0], return_counts=True)\n",
    "# unique[0]\n",
    "# counts[0]"
   ]
  },
  {
   "cell_type": "code",
   "execution_count": 9,
   "metadata": {},
   "outputs": [],
   "source": [
    "def train_NBmultinomial(train_data):\n",
    "    Class0 = train_data.where(train_data.iloc[:,-1]==0).dropna()\n",
    "    Class1 = train_data.where(train_data.iloc[:,-1]==1).dropna()\n",
    "    train_data = np.array(train_data, dtype = float)\n",
    "    Class0 = np.array(Class0)\n",
    "    Class1 = np.array(Class1)\n",
    "    IVs = [data[:-1] for data in train_data]\n",
    "    DVs = [data[-1] for data in train_data]\n",
    "    nrow = len(DVs)\n",
    "    nrow0 = len(Class0)\n",
    "    nrow1 = len(Class1)\n",
    "    P0 =DVs.count(0)/nrow\n",
    "    P1 =DVs.count(1)/nrow\n",
    "#     feature = np.zeros(shape = (IV_train.shape[1], IV_train.shape[0]), dtype = float)\n",
    "#     for i in np.arange(IV_train.shape[1]):\n",
    "#         for j in np.arange(IV_train.shape[0]):\n",
    "#             feature[i,j] = IV_train.iloc[j,i]\n",
    "    feature_class0 = []\n",
    "    feature_class1 = []\n",
    "    for i in range(len(IVs[0])):\n",
    "        feature_temp0 = [data[i] for data in Class0]\n",
    "        feature_temp1 = [data[i] for data in Class1]\n",
    "        feature_class0.append(feature_temp0)\n",
    "        feature_class1.append(feature_temp1)\n",
    "    def classifier(test_data):\n",
    "        test_data = np.array(test_data, dtype = float)\n",
    "        predict = []\n",
    "        for data in test_data:\n",
    "\n",
    "            sum_pro0 = 0\n",
    "            sum_pro1 = 0\n",
    "            for i in range(len(test_data[0])):\n",
    "                \n",
    "                pro0 = feature_class0[i].count(data[i])/nrow0\n",
    "                pro1 = feature_class1[i].count(data[i])/nrow1\n",
    "                # k==6?\n",
    "                if pro0 == 0:\n",
    "                    pro0 = 1/(nrow0+len(test_data[0]))\n",
    "                if pro1 == 0:\n",
    "                    pro1 = 1/(nrow0+len(test_data[0]))\n",
    "                multi_prob0 = math.log(pro0)\n",
    "                sum_pro0 = sum_pro0 + multi_prob0\n",
    "                \n",
    "                prob1 = math.log(pro1)\n",
    "                sum_pro1 = sum_pro1 + prob1\n",
    "            sum_prob0_total = sum_pro0 + math.log(P0) \n",
    "            sum_prob1_total = sum_pro1 + math.log(P1)\n",
    "            if sum_prob0_total>sum_prob1_total:\n",
    "                predict.append(0)\n",
    "            else:\n",
    "                predict.append(1)\n",
    "        return predict\n",
    "    return classifier\n",
    "            \n",
    "            \n",
    "\n",
    "def predict(clf, test_row):\n",
    "    result = clf(test_row)\n",
    "    return result\n"
   ]
  },
  {
   "cell_type": "code",
   "execution_count": 10,
   "metadata": {},
   "outputs": [],
   "source": [
    "clf_multinomial = train_NBmultinomial(train_data)\n",
    "prediction_multinomial = predict(clf_multinomial, test_data)"
   ]
  },
  {
   "cell_type": "code",
   "execution_count": 11,
   "metadata": {},
   "outputs": [
    {
     "data": {
      "text/plain": [
       "2400"
      ]
     },
     "execution_count": 11,
     "metadata": {},
     "output_type": "execute_result"
    }
   ],
   "source": [
    "len(prediction_multinomial)"
   ]
  },
  {
   "cell_type": "markdown",
   "metadata": {},
   "source": [
    "## 2. Scratch Gaussian Bayes classifier"
   ]
  },
  {
   "cell_type": "code",
   "execution_count": 12,
   "metadata": {},
   "outputs": [],
   "source": [
    "def train_NBGaussian(train_data):\n",
    "    Class0 = train_data.where(train_data.iloc[:,-1]==0).dropna()\n",
    "    Class1 = train_data.where(train_data.iloc[:,-1]==1).dropna()\n",
    "    train_data = np.array(train_data, dtype = float)\n",
    "    Class0 = np.array(Class0)\n",
    "    Class1 = np.array(Class1)\n",
    "    IVs = [data[:-1] for data in train_data]\n",
    "    DVs = [data[-1] for data in train_data]\n",
    "    nrow = len(DVs)\n",
    "    nrow0 = len(Class0)\n",
    "    nrow1 = len(Class1)\n",
    "    P0 =DVs.count(0)/nrow\n",
    "    P1 =DVs.count(1)/nrow\n",
    "    feature_class0 = []\n",
    "    feature_class1 = []\n",
    "    mean0 = []\n",
    "    var0  = []\n",
    "    mean1 = []\n",
    "    var1 = []\n",
    "    for i in range(len(IVs[0])):\n",
    "        feature_temp0 = [data[i] for data in Class0]\n",
    "        feature_temp1 = [data[i] for data in Class1]\n",
    "        feature_class0.append(feature_temp0)\n",
    "        feature_class1.append(feature_temp1)\n",
    "    for j in range(len(IVs[0])):\n",
    "        temp_mean0 = np.mean(feature_class0[j])\n",
    "        temp_mean1 = np.mean(feature_class1[j])\n",
    "        temp_var0 = np.var(feature_class0[j])\n",
    "        temp_var1 = np.var(feature_class1[j])\n",
    "        \n",
    "        mean0.append(temp_mean0)\n",
    "        mean1.append(temp_mean1)\n",
    "        var0.append(temp_var0)\n",
    "        var1.append(temp_var1)\n",
    "    #print(var0, var1)\n",
    "    #print(mean0, mean1, var0, var1)    \n",
    "    def classifier(test_data):\n",
    "        #print(test_data.isnull().values.any())\n",
    "        test_data = np.array(test_data, dtype = float)\n",
    "        predict = []\n",
    "        for data in test_data:\n",
    "\n",
    "            sum_pro0 = 0\n",
    "            sum_pro1 = 0\n",
    "            for i in range(len(test_data[0])):\n",
    "                #print(data[i])\n",
    "                #print(var0[i], var1[i])\n",
    "                pro0 = np.exp(((data[i]-mean0[i])**2)/(2*var0[i]))/np.sqrt(2*math.pi*var0[i])\n",
    "                pro1 = np.exp(((data[i]-mean1[i])**2)/(2*var1[i]))/np.sqrt(2*math.pi*var1[i]) \n",
    "                \n",
    "                #print(pro0)\n",
    "                multi_prob0 = np.log(pro0)\n",
    "                sum_pro0 = sum_pro0 + multi_prob0\n",
    "                \n",
    "                multi_prob1 = np.log(pro1)\n",
    "                sum_pro1 = sum_pro1 + multi_prob1\n",
    "            sum_prob0_total = sum_pro0 + np.log(P0) \n",
    "            sum_prob1_total = sum_pro1 + np.log(P1)\n",
    "            \n",
    "            if sum_prob0_total>sum_prob1_total:\n",
    "                predict.append(0)\n",
    "            elif sum_prob0_total<=sum_prob1_total:\n",
    "                \n",
    "                predict.append(1)\n",
    "        return predict\n",
    "    return classifier"
   ]
  },
  {
   "cell_type": "code",
   "execution_count": 13,
   "metadata": {
    "scrolled": false
   },
   "outputs": [
    {
     "name": "stdout",
     "output_type": "stream",
     "text": [
      "<function train_NBGaussian.<locals>.classifier at 0x11fba5bf8>\n"
     ]
    }
   ],
   "source": [
    "clf_Gaussian = train_NBGaussian(train_data)\n",
    "print(clf_Gaussian)\n",
    "prediction_Gaussian = predict(clf_Gaussian, test_data)"
   ]
  },
  {
   "cell_type": "code",
   "execution_count": 14,
   "metadata": {
    "scrolled": true
   },
   "outputs": [
    {
     "name": "stdout",
     "output_type": "stream",
     "text": [
      "2400\n"
     ]
    }
   ],
   "source": [
    "print(len(prediction_Gaussian))"
   ]
  },
  {
   "cell_type": "markdown",
   "metadata": {},
   "source": [
    "## B. Scratch K-fold cross-validation"
   ]
  },
  {
   "cell_type": "code",
   "execution_count": 15,
   "metadata": {},
   "outputs": [],
   "source": [
    "def cross_validation(model, train_data, k):\n",
    "    train_data = np.array(train_data)\n",
    "    split_data = np.split(train_data, k)\n",
    "    f1_score = []\n",
    "    \n",
    "    for i in range(k):\n",
    "        true_positive=0\n",
    "        false_positive=0\n",
    "        false_negative=0\n",
    "        true_negative=0\n",
    "        \n",
    "        train = np.delete(train_data, range(i*560, (i+1)*560), axis=0)\n",
    "        train1 = pd.DataFrame(train)\n",
    "        clf = model(train1)\n",
    "        test_data = [data[:-1] for data in split_data[i]]\n",
    "        test_label = [data[-1] for data in split_data[i]]\n",
    "        prediction = predict(clf, test_data)\n",
    "        for j in range(len(prediction)):\n",
    "            if prediction[j] == 1 and test_label[j] == 1:\n",
    "                true_positive +=1\n",
    "            elif prediction[j] == 1 and test_label[j] == 0:\n",
    "                false_positive +=1\n",
    "            elif prediction[j] == 0 and test_label[j] == 1:\n",
    "                false_negative +=1\n",
    "            elif prediction[j] == 0 and test_label[j] == 0:\n",
    "                true_negative +=1\n",
    "    #print(true_positive)\n",
    "        f1 = 2*true_positive/(2*true_positive+false_positive+false_negative)\n",
    "        f1_score.append(f1)\n",
    "    return np.mean(f1_score)\n",
    "            \n",
    "            \n",
    "            "
   ]
  },
  {
   "cell_type": "markdown",
   "metadata": {},
   "source": [
    "## C. Compare performance"
   ]
  },
  {
   "cell_type": "code",
   "execution_count": 16,
   "metadata": {},
   "outputs": [
    {
     "data": {
      "text/plain": [
       "0.8720743484935326"
      ]
     },
     "execution_count": 16,
     "metadata": {},
     "output_type": "execute_result"
    }
   ],
   "source": [
    "f1_NBmultinomial = cross_validation(train_NBmultinomial, train_data, 5)\n",
    "f1_NBmultinomial"
   ]
  },
  {
   "cell_type": "code",
   "execution_count": 17,
   "metadata": {},
   "outputs": [
    {
     "data": {
      "text/plain": [
       "0.0008658008658008658"
      ]
     },
     "execution_count": 17,
     "metadata": {},
     "output_type": "execute_result"
    }
   ],
   "source": [
    "f1_Gaussian = cross_validation(train_NBGaussian, train_data, 5)\n",
    "f1_Gaussian"
   ]
  },
  {
   "cell_type": "markdown",
   "metadata": {},
   "source": [
    "Multinomial Naive Bayes performs better."
   ]
  },
  {
   "cell_type": "markdown",
   "metadata": {},
   "source": [
    "## D. Compare the performance of above scratched function with scikit learn"
   ]
  },
  {
   "cell_type": "code",
   "execution_count": 18,
   "metadata": {},
   "outputs": [],
   "source": [
    "from sklearn.naive_bayes import GaussianNB\n",
    "from sklearn.metrics import f1_score\n",
    "from sklearn.preprocessing import MinMaxScaler\n",
    "from sklearn.naive_bayes import MultinomialNB"
   ]
  },
  {
   "cell_type": "code",
   "execution_count": 19,
   "metadata": {},
   "outputs": [
    {
     "data": {
      "text/plain": [
       "0.31512224569876246"
      ]
     },
     "execution_count": 19,
     "metadata": {},
     "output_type": "execute_result"
    }
   ],
   "source": [
    "clf_skGaussian = GaussianNB()\n",
    "clf_skGaussian.fit(train_IVs, train_DV)\n",
    "prediction_skGaussian = clf_skGaussian.predict(train_IVs)\n",
    "f1_score(train_DV, prediction_skGaussian)"
   ]
  },
  {
   "cell_type": "code",
   "execution_count": 20,
   "metadata": {},
   "outputs": [
    {
     "data": {
      "text/plain": [
       "0.31512224569876246"
      ]
     },
     "execution_count": 20,
     "metadata": {},
     "output_type": "execute_result"
    }
   ],
   "source": [
    "train_IVs1 = train_IVs\n",
    "train_IVs1['Feature_3'] += -np.min(train_IVs)[2]\n",
    "clf_MNB = MultinomialNB()\n",
    "clf_MNB.fit(train_IVs1, train_DV)\n",
    "prediction_skMNB = clf_MNB.predict(train_IVs1)\n",
    "f1_score(train_DV, prediction_skGaussian)"
   ]
  },
  {
   "cell_type": "markdown",
   "metadata": {},
   "source": [
    "## Test data"
   ]
  },
  {
   "cell_type": "code",
   "execution_count": 21,
   "metadata": {},
   "outputs": [],
   "source": [
    "clf_multinomial = train_NBmultinomial(train_data)\n",
    "prediction_multinomial = predict(clf_multinomial, test_data)"
   ]
  },
  {
   "cell_type": "code",
   "execution_count": 22,
   "metadata": {},
   "outputs": [],
   "source": [
    "test_features = test_data"
   ]
  },
  {
   "cell_type": "code",
   "execution_count": 23,
   "metadata": {},
   "outputs": [
    {
     "data": {
      "text/html": [
       "<div>\n",
       "<style scoped>\n",
       "    .dataframe tbody tr th:only-of-type {\n",
       "        vertical-align: middle;\n",
       "    }\n",
       "\n",
       "    .dataframe tbody tr th {\n",
       "        vertical-align: top;\n",
       "    }\n",
       "\n",
       "    .dataframe thead th {\n",
       "        text-align: right;\n",
       "    }\n",
       "</style>\n",
       "<table border=\"1\" class=\"dataframe\">\n",
       "  <thead>\n",
       "    <tr style=\"text-align: right;\">\n",
       "      <th></th>\n",
       "      <th>Feature_1</th>\n",
       "      <th>Feature_2</th>\n",
       "      <th>Feature_3</th>\n",
       "      <th>Feature_4</th>\n",
       "      <th>Feature_5</th>\n",
       "      <th>Feature_6</th>\n",
       "      <th>Label</th>\n",
       "    </tr>\n",
       "  </thead>\n",
       "  <tbody>\n",
       "    <tr>\n",
       "      <th>0</th>\n",
       "      <td>13876.40</td>\n",
       "      <td>140984.0</td>\n",
       "      <td>-5240.00</td>\n",
       "      <td>33</td>\n",
       "      <td>315</td>\n",
       "      <td>5844</td>\n",
       "      <td>0</td>\n",
       "    </tr>\n",
       "    <tr>\n",
       "      <th>1</th>\n",
       "      <td>9958.06</td>\n",
       "      <td>27101.6</td>\n",
       "      <td>-3330.73</td>\n",
       "      <td>27</td>\n",
       "      <td>174</td>\n",
       "      <td>1415</td>\n",
       "      <td>0</td>\n",
       "    </tr>\n",
       "    <tr>\n",
       "      <th>2</th>\n",
       "      <td>8716.96</td>\n",
       "      <td>10783.7</td>\n",
       "      <td>-3113.44</td>\n",
       "      <td>34</td>\n",
       "      <td>156</td>\n",
       "      <td>654</td>\n",
       "      <td>0</td>\n",
       "    </tr>\n",
       "    <tr>\n",
       "      <th>3</th>\n",
       "      <td>15707.20</td>\n",
       "      <td>116106.0</td>\n",
       "      <td>-5050.00</td>\n",
       "      <td>54</td>\n",
       "      <td>271</td>\n",
       "      <td>4426</td>\n",
       "      <td>0</td>\n",
       "    </tr>\n",
       "    <tr>\n",
       "      <th>4</th>\n",
       "      <td>5189.89</td>\n",
       "      <td>1928.0</td>\n",
       "      <td>-1113.00</td>\n",
       "      <td>14</td>\n",
       "      <td>68</td>\n",
       "      <td>149</td>\n",
       "      <td>1</td>\n",
       "    </tr>\n",
       "  </tbody>\n",
       "</table>\n",
       "</div>"
      ],
      "text/plain": [
       "   Feature_1  Feature_2  Feature_3  Feature_4  Feature_5  Feature_6  Label\n",
       "0   13876.40   140984.0   -5240.00         33        315       5844      0\n",
       "1    9958.06    27101.6   -3330.73         27        174       1415      0\n",
       "2    8716.96    10783.7   -3113.44         34        156        654      0\n",
       "3   15707.20   116106.0   -5050.00         54        271       4426      0\n",
       "4    5189.89     1928.0   -1113.00         14         68        149      1"
      ]
     },
     "execution_count": 23,
     "metadata": {},
     "output_type": "execute_result"
    }
   ],
   "source": [
    "test_features[\"Label\"] = prediction_multinomial\n",
    "test_features.head()"
   ]
  },
  {
   "cell_type": "code",
   "execution_count": 24,
   "metadata": {},
   "outputs": [],
   "source": [
    "test_features.to_csv(\"test_features.csv\",index=False)"
   ]
  },
  {
   "cell_type": "markdown",
   "metadata": {},
   "source": [
    "# Part II Scratch Association Rule"
   ]
  },
  {
   "cell_type": "code",
   "execution_count": 25,
   "metadata": {},
   "outputs": [],
   "source": [
    "from itertools import combinations"
   ]
  },
  {
   "cell_type": "code",
   "execution_count": 26,
   "metadata": {},
   "outputs": [],
   "source": [
    "basket_data = [[1,1,0,1,0,0], [1,1,0,0,0,1], [0,1,1,0,0,1], [0,0,1,0,1,0], [1,0,1,0,0,1],\n",
    "              [1,1,0,0,1,0],[0,1,0,0,1,1]]"
   ]
  },
  {
   "cell_type": "code",
   "execution_count": 27,
   "metadata": {},
   "outputs": [],
   "source": [
    "def APriori(basket_data, support, confidence, lift):\n",
    "    \n",
    "    def join(List, j):\n",
    "        List_new = []\n",
    "        if j == 1:\n",
    "            for item in combinations(List, 2):\n",
    "                List_new.append(item)   \n",
    "            \n",
    "        else:\n",
    "            for item in combinations(List, 2):\n",
    "                new = list(item[0])+list(item[1])\n",
    "                new = set(new)\n",
    "                if len(new) == j+1:\n",
    "                    List_new.append(tuple(new))\n",
    "            List_new = set(List_new)\n",
    "        \n",
    "        return list(List_new)\n",
    " \n",
    "    \n",
    "    \n",
    "    def support_rule(basket_key, allcandidate, support):\n",
    "    # subset\n",
    "        Can = []\n",
    "        Can_final = []\n",
    "        for key in basket_key:\n",
    "            for candidate in allcandidate:\n",
    "                if set(candidate).issubset(set(key)):\n",
    "                    Can.append(candidate)\n",
    "        \n",
    "    # support(tuple of list)\n",
    "        for can in set(Can):\n",
    "            if Can.count(can)/(len(basket_data))>support:\n",
    "                Can_final.append(can)\n",
    "        Can_final = set(Can_final)\n",
    "        \n",
    "        return Can_final\n",
    "                  \n",
    "    \n",
    "    def prune(Lj, Lj_1, j):\n",
    "        \n",
    "        Ljj = copy.deepcopy(Lj)\n",
    "        \n",
    "        if j == 1:\n",
    "            return Lj\n",
    "        else:\n",
    "            for items in Lj:\n",
    "                for com in combinations(items, j):\n",
    "                    if com not in Lj_1:\n",
    "                        if items in Ljj:\n",
    "                            Ljj.remove(items)\n",
    "        return Ljj\n",
    "    \n",
    "    \n",
    "    \n",
    "    # find L1\n",
    "    count = []\n",
    "    key_L1 = []\n",
    "    basket_key = []\n",
    "    L = []\n",
    "    L_final = []\n",
    "\n",
    "    for i in range(len(basket_data[0])):\n",
    "        item = [data[i] for data in basket_data]\n",
    "        count.append(item.count(1))\n",
    "    \n",
    "    # basketball_key\n",
    "    for data in basket_data:\n",
    "        standard_key = list(range(1, len(basket_data[0])+1))\n",
    "        for i in range(len(basket_data[0])):\n",
    "            if data[i] == 0:\n",
    "                standard_key[i] = 0\n",
    "        basket_key.append(standard_key)\n",
    "        \n",
    "    for j in range(len(basket_data[0])):\n",
    "        if count[j]/(len(basket_data))>support:\n",
    "            key_L1.append(j+1)\n",
    "    \n",
    "    L.append(key_L1)\n",
    "    l = 0\n",
    "    \n",
    "    while L[l]:\n",
    "        C = join(L[l], l+1)\n",
    "        #print(C)\n",
    "        temp_L = support_rule(basket_key, C, support)\n",
    "        temp_L = prune(temp_L, L[l], l+1)\n",
    "        l = l+1\n",
    "        L.append(temp_L)\n",
    "    for i in range(1,len(L)):\n",
    "        for j in range(len(L[i])):\n",
    "            lll = list(L[i])[j]\n",
    "#             kkk = set(lll)\n",
    "            L_final.append(lll)\n",
    "    #print(L_final)\n",
    "    # Confidence\n",
    "    \n",
    "    def confidence_value(data, b, a):\n",
    "        counta = 0\n",
    "        countb = 0\n",
    "        con_key = []\n",
    "        for key in data:\n",
    "            if b.issubset(set(key)):\n",
    "                con_key.append(key)\n",
    "                countb += 1\n",
    "        for key in con_key:\n",
    "            if a.issubset(set(key)):\n",
    "                counta += 1\n",
    "        confidence = counta/countb\n",
    "        #print(confidence)\n",
    "        return confidence\n",
    "    \n",
    "    def lift_value(data, b, a):\n",
    "        counta = 0\n",
    "        countb = 0\n",
    "        ca = 0\n",
    "        pa = 0\n",
    "        con_key = []\n",
    "        for key in data:\n",
    "            if b.issubset(set(key)):\n",
    "                con_key.append(key)\n",
    "                countb += 1\n",
    "        for key in con_key:\n",
    "            if a.issubset(set(key)):\n",
    "                counta += 1\n",
    "                \n",
    "        for key in data:\n",
    "            if a.issubset(set(key)):\n",
    "                ca += 1\n",
    "            \n",
    "        confidence = counta/countb\n",
    "        pa = ca/len(data)\n",
    "        lift = confidence/pa\n",
    "        #print(confidence, pb)\n",
    "        return lift\n",
    "    \n",
    "    def subset(item):\n",
    "        k = len(item)\n",
    "        sub = []\n",
    "        for i in range(k-1):\n",
    "            for it in combinations(item, i+1):\n",
    "                sub.append(set(it))\n",
    "        return sub\n",
    "    \n",
    "    def conversion(a,b):\n",
    "        model = [\"A\", \"B\", \"C\", \"D\", \"E\", \"F\"]\n",
    "        output_final = []\n",
    "        outputa = []\n",
    "        outputb = []\n",
    "        for index in a:\n",
    "            output = model[index-1]\n",
    "            outputa.append(output)\n",
    "        for index in b:\n",
    "            output = model[index-1]\n",
    "            outputb.append(output)\n",
    "        output_final.append('''{} => {}'''.format(set(outputa), set(outputb)))\n",
    "        \n",
    "        return output_final\n",
    "        #return print('''{} => {}'''.format(set(outputa), set(outputb)))\n",
    "    \n",
    "    \n",
    "    \n",
    "    sol = []\n",
    "    for item in L_final:\n",
    "        item = set(item)\n",
    "        if len(item)>=2:\n",
    "            for a in subset(item):\n",
    "                #print(subset(item))\n",
    "                k = item - a\n",
    "                #print(k)\n",
    "                if confidence_value(basket_key, item-a, a)  >= confidence and lift_value(basket_key, item-a, a)>lift:\n",
    "                    #sol.append([item-a, a])\n",
    "                    aaa = conversion(item-a, a)\n",
    "                    sol = sol+aaa\n",
    "    return sol\n",
    "    \n",
    "    "
   ]
  },
  {
   "cell_type": "code",
   "execution_count": 28,
   "metadata": {},
   "outputs": [],
   "source": [
    "results = {}"
   ]
  },
  {
   "cell_type": "code",
   "execution_count": 29,
   "metadata": {},
   "outputs": [
    {
     "name": "stdout",
     "output_type": "stream",
     "text": [
      "[\"{'B'} => {'A'}\", \"{'A'} => {'B'}\", \"{'F'} => {'B'}\", \"{'B'} => {'F'}\", \"{'D'} => {'A'}\", \"{'F'} => {'C'}\", \"{'C'} => {'F'}\", \"{'D'} => {'B'}\", \"{'C', 'B'} => {'F'}\", \"{'A', 'F'} => {'C'}\", \"{'C', 'A'} => {'F'}\", \"{'C'} => {'A', 'F'}\", \"{'B', 'D'} => {'A'}\", \"{'A', 'D'} => {'B'}\", \"{'A', 'B'} => {'D'}\", \"{'D'} => {'A', 'B'}\", \"{'F', 'E'} => {'B'}\", \"{'A', 'E'} => {'B'}\"]\n"
     ]
    }
   ],
   "source": [
    "rul1 = APriori(basket_data, 0.1, 0.3, 1)\n",
    "print(rul1)\n",
    "results[\"support=0.1,confidence=0.3,lift=1\"] = list(rul1)"
   ]
  },
  {
   "cell_type": "code",
   "execution_count": 30,
   "metadata": {},
   "outputs": [
    {
     "name": "stdout",
     "output_type": "stream",
     "text": [
      "[\"{'A'} => {'B'}\", \"{'F'} => {'B'}\", \"{'C'} => {'F'}\", \"{'E'} => {'B'}\"]\n"
     ]
    }
   ],
   "source": [
    "rul2 = APriori(basket_data, 0.2, 0.65, 0)\n",
    "print(rul2)\n",
    "results[\"support=0.2,confidence=0.65,lift=0\"] = list(rul2)"
   ]
  },
  {
   "cell_type": "code",
   "execution_count": 31,
   "metadata": {},
   "outputs": [
    {
     "name": "stdout",
     "output_type": "stream",
     "text": [
      "[\"{'C'} => {'F'}\"]\n"
     ]
    }
   ],
   "source": [
    "rul3 = APriori(basket_data, 0.2, 0.65, 1.1)\n",
    "print(rul3)\n",
    "results[\"support=0.2,confidence=0.65,lift=1.1\"] = list(rul3)"
   ]
  },
  {
   "cell_type": "code",
   "execution_count": 32,
   "metadata": {},
   "outputs": [
    {
     "name": "stdout",
     "output_type": "stream",
     "text": [
      "[]\n"
     ]
    }
   ],
   "source": [
    "rul4 = APriori(basket_data, 0.2, 0.65, 2)\n",
    "print(rul4)\n",
    "results[\"support=0.2,confidence=0.65,lift=2\"] = list(rul4)"
   ]
  },
  {
   "cell_type": "code",
   "execution_count": 33,
   "metadata": {
    "scrolled": true
   },
   "outputs": [
    {
     "name": "stdout",
     "output_type": "stream",
     "text": [
      "[\"{'F'} => {'C'}\", \"{'C'} => {'F'}\"]\n"
     ]
    }
   ],
   "source": [
    "rul5 = APriori(basket_data, 0.2, 0.5, 1.1)\n",
    "print(rul5)\n",
    "results[\"support=0.2,confidence=0.5,lift=1.1\"] = list(rul5)"
   ]
  },
  {
   "cell_type": "code",
   "execution_count": 34,
   "metadata": {},
   "outputs": [
    {
     "name": "stdout",
     "output_type": "stream",
     "text": [
      "[]\n"
     ]
    }
   ],
   "source": [
    "rul6 = APriori(basket_data, 0.3, 0.7, 1.1)\n",
    "print(rul6)\n",
    "results[\"support=0.3,confidence=0.7,lift=1.1\"] = list(rul6)"
   ]
  },
  {
   "cell_type": "code",
   "execution_count": 35,
   "metadata": {},
   "outputs": [],
   "source": [
    "Result = pd.DataFrame(dict([(i, pd.Series(j)) for i, j in results.items()]))"
   ]
  },
  {
   "cell_type": "code",
   "execution_count": 36,
   "metadata": {},
   "outputs": [
    {
     "data": {
      "text/html": [
       "<div>\n",
       "<style scoped>\n",
       "    .dataframe tbody tr th:only-of-type {\n",
       "        vertical-align: middle;\n",
       "    }\n",
       "\n",
       "    .dataframe tbody tr th {\n",
       "        vertical-align: top;\n",
       "    }\n",
       "\n",
       "    .dataframe thead th {\n",
       "        text-align: right;\n",
       "    }\n",
       "</style>\n",
       "<table border=\"1\" class=\"dataframe\">\n",
       "  <thead>\n",
       "    <tr style=\"text-align: right;\">\n",
       "      <th></th>\n",
       "      <th>support=0.1,confidence=0.3,lift=1</th>\n",
       "      <th>support=0.2,confidence=0.65,lift=0</th>\n",
       "      <th>support=0.2,confidence=0.65,lift=1.1</th>\n",
       "      <th>support=0.2,confidence=0.65,lift=2</th>\n",
       "      <th>support=0.2,confidence=0.5,lift=1.1</th>\n",
       "      <th>support=0.3,confidence=0.7,lift=1.1</th>\n",
       "    </tr>\n",
       "  </thead>\n",
       "  <tbody>\n",
       "    <tr>\n",
       "      <th>0</th>\n",
       "      <td>{'B'} =&gt; {'A'}</td>\n",
       "      <td>{'A'} =&gt; {'B'}</td>\n",
       "      <td>{'C'} =&gt; {'F'}</td>\n",
       "      <td>NaN</td>\n",
       "      <td>{'F'} =&gt; {'C'}</td>\n",
       "      <td>NaN</td>\n",
       "    </tr>\n",
       "    <tr>\n",
       "      <th>1</th>\n",
       "      <td>{'A'} =&gt; {'B'}</td>\n",
       "      <td>{'F'} =&gt; {'B'}</td>\n",
       "      <td>NaN</td>\n",
       "      <td>NaN</td>\n",
       "      <td>{'C'} =&gt; {'F'}</td>\n",
       "      <td>NaN</td>\n",
       "    </tr>\n",
       "    <tr>\n",
       "      <th>2</th>\n",
       "      <td>{'F'} =&gt; {'B'}</td>\n",
       "      <td>{'C'} =&gt; {'F'}</td>\n",
       "      <td>NaN</td>\n",
       "      <td>NaN</td>\n",
       "      <td>NaN</td>\n",
       "      <td>NaN</td>\n",
       "    </tr>\n",
       "    <tr>\n",
       "      <th>3</th>\n",
       "      <td>{'B'} =&gt; {'F'}</td>\n",
       "      <td>{'E'} =&gt; {'B'}</td>\n",
       "      <td>NaN</td>\n",
       "      <td>NaN</td>\n",
       "      <td>NaN</td>\n",
       "      <td>NaN</td>\n",
       "    </tr>\n",
       "    <tr>\n",
       "      <th>4</th>\n",
       "      <td>{'D'} =&gt; {'A'}</td>\n",
       "      <td>NaN</td>\n",
       "      <td>NaN</td>\n",
       "      <td>NaN</td>\n",
       "      <td>NaN</td>\n",
       "      <td>NaN</td>\n",
       "    </tr>\n",
       "    <tr>\n",
       "      <th>5</th>\n",
       "      <td>{'F'} =&gt; {'C'}</td>\n",
       "      <td>NaN</td>\n",
       "      <td>NaN</td>\n",
       "      <td>NaN</td>\n",
       "      <td>NaN</td>\n",
       "      <td>NaN</td>\n",
       "    </tr>\n",
       "    <tr>\n",
       "      <th>6</th>\n",
       "      <td>{'C'} =&gt; {'F'}</td>\n",
       "      <td>NaN</td>\n",
       "      <td>NaN</td>\n",
       "      <td>NaN</td>\n",
       "      <td>NaN</td>\n",
       "      <td>NaN</td>\n",
       "    </tr>\n",
       "    <tr>\n",
       "      <th>7</th>\n",
       "      <td>{'D'} =&gt; {'B'}</td>\n",
       "      <td>NaN</td>\n",
       "      <td>NaN</td>\n",
       "      <td>NaN</td>\n",
       "      <td>NaN</td>\n",
       "      <td>NaN</td>\n",
       "    </tr>\n",
       "    <tr>\n",
       "      <th>8</th>\n",
       "      <td>{'C', 'B'} =&gt; {'F'}</td>\n",
       "      <td>NaN</td>\n",
       "      <td>NaN</td>\n",
       "      <td>NaN</td>\n",
       "      <td>NaN</td>\n",
       "      <td>NaN</td>\n",
       "    </tr>\n",
       "    <tr>\n",
       "      <th>9</th>\n",
       "      <td>{'A', 'F'} =&gt; {'C'}</td>\n",
       "      <td>NaN</td>\n",
       "      <td>NaN</td>\n",
       "      <td>NaN</td>\n",
       "      <td>NaN</td>\n",
       "      <td>NaN</td>\n",
       "    </tr>\n",
       "    <tr>\n",
       "      <th>10</th>\n",
       "      <td>{'C', 'A'} =&gt; {'F'}</td>\n",
       "      <td>NaN</td>\n",
       "      <td>NaN</td>\n",
       "      <td>NaN</td>\n",
       "      <td>NaN</td>\n",
       "      <td>NaN</td>\n",
       "    </tr>\n",
       "    <tr>\n",
       "      <th>11</th>\n",
       "      <td>{'C'} =&gt; {'A', 'F'}</td>\n",
       "      <td>NaN</td>\n",
       "      <td>NaN</td>\n",
       "      <td>NaN</td>\n",
       "      <td>NaN</td>\n",
       "      <td>NaN</td>\n",
       "    </tr>\n",
       "    <tr>\n",
       "      <th>12</th>\n",
       "      <td>{'B', 'D'} =&gt; {'A'}</td>\n",
       "      <td>NaN</td>\n",
       "      <td>NaN</td>\n",
       "      <td>NaN</td>\n",
       "      <td>NaN</td>\n",
       "      <td>NaN</td>\n",
       "    </tr>\n",
       "    <tr>\n",
       "      <th>13</th>\n",
       "      <td>{'A', 'D'} =&gt; {'B'}</td>\n",
       "      <td>NaN</td>\n",
       "      <td>NaN</td>\n",
       "      <td>NaN</td>\n",
       "      <td>NaN</td>\n",
       "      <td>NaN</td>\n",
       "    </tr>\n",
       "    <tr>\n",
       "      <th>14</th>\n",
       "      <td>{'A', 'B'} =&gt; {'D'}</td>\n",
       "      <td>NaN</td>\n",
       "      <td>NaN</td>\n",
       "      <td>NaN</td>\n",
       "      <td>NaN</td>\n",
       "      <td>NaN</td>\n",
       "    </tr>\n",
       "    <tr>\n",
       "      <th>15</th>\n",
       "      <td>{'D'} =&gt; {'A', 'B'}</td>\n",
       "      <td>NaN</td>\n",
       "      <td>NaN</td>\n",
       "      <td>NaN</td>\n",
       "      <td>NaN</td>\n",
       "      <td>NaN</td>\n",
       "    </tr>\n",
       "    <tr>\n",
       "      <th>16</th>\n",
       "      <td>{'F', 'E'} =&gt; {'B'}</td>\n",
       "      <td>NaN</td>\n",
       "      <td>NaN</td>\n",
       "      <td>NaN</td>\n",
       "      <td>NaN</td>\n",
       "      <td>NaN</td>\n",
       "    </tr>\n",
       "    <tr>\n",
       "      <th>17</th>\n",
       "      <td>{'A', 'E'} =&gt; {'B'}</td>\n",
       "      <td>NaN</td>\n",
       "      <td>NaN</td>\n",
       "      <td>NaN</td>\n",
       "      <td>NaN</td>\n",
       "      <td>NaN</td>\n",
       "    </tr>\n",
       "  </tbody>\n",
       "</table>\n",
       "</div>"
      ],
      "text/plain": [
       "   support=0.1,confidence=0.3,lift=1 support=0.2,confidence=0.65,lift=0  \\\n",
       "0                     {'B'} => {'A'}                     {'A'} => {'B'}   \n",
       "1                     {'A'} => {'B'}                     {'F'} => {'B'}   \n",
       "2                     {'F'} => {'B'}                     {'C'} => {'F'}   \n",
       "3                     {'B'} => {'F'}                     {'E'} => {'B'}   \n",
       "4                     {'D'} => {'A'}                                NaN   \n",
       "5                     {'F'} => {'C'}                                NaN   \n",
       "6                     {'C'} => {'F'}                                NaN   \n",
       "7                     {'D'} => {'B'}                                NaN   \n",
       "8                {'C', 'B'} => {'F'}                                NaN   \n",
       "9                {'A', 'F'} => {'C'}                                NaN   \n",
       "10               {'C', 'A'} => {'F'}                                NaN   \n",
       "11               {'C'} => {'A', 'F'}                                NaN   \n",
       "12               {'B', 'D'} => {'A'}                                NaN   \n",
       "13               {'A', 'D'} => {'B'}                                NaN   \n",
       "14               {'A', 'B'} => {'D'}                                NaN   \n",
       "15               {'D'} => {'A', 'B'}                                NaN   \n",
       "16               {'F', 'E'} => {'B'}                                NaN   \n",
       "17               {'A', 'E'} => {'B'}                                NaN   \n",
       "\n",
       "   support=0.2,confidence=0.65,lift=1.1  support=0.2,confidence=0.65,lift=2  \\\n",
       "0                        {'C'} => {'F'}                                 NaN   \n",
       "1                                   NaN                                 NaN   \n",
       "2                                   NaN                                 NaN   \n",
       "3                                   NaN                                 NaN   \n",
       "4                                   NaN                                 NaN   \n",
       "5                                   NaN                                 NaN   \n",
       "6                                   NaN                                 NaN   \n",
       "7                                   NaN                                 NaN   \n",
       "8                                   NaN                                 NaN   \n",
       "9                                   NaN                                 NaN   \n",
       "10                                  NaN                                 NaN   \n",
       "11                                  NaN                                 NaN   \n",
       "12                                  NaN                                 NaN   \n",
       "13                                  NaN                                 NaN   \n",
       "14                                  NaN                                 NaN   \n",
       "15                                  NaN                                 NaN   \n",
       "16                                  NaN                                 NaN   \n",
       "17                                  NaN                                 NaN   \n",
       "\n",
       "   support=0.2,confidence=0.5,lift=1.1  support=0.3,confidence=0.7,lift=1.1  \n",
       "0                       {'F'} => {'C'}                                  NaN  \n",
       "1                       {'C'} => {'F'}                                  NaN  \n",
       "2                                  NaN                                  NaN  \n",
       "3                                  NaN                                  NaN  \n",
       "4                                  NaN                                  NaN  \n",
       "5                                  NaN                                  NaN  \n",
       "6                                  NaN                                  NaN  \n",
       "7                                  NaN                                  NaN  \n",
       "8                                  NaN                                  NaN  \n",
       "9                                  NaN                                  NaN  \n",
       "10                                 NaN                                  NaN  \n",
       "11                                 NaN                                  NaN  \n",
       "12                                 NaN                                  NaN  \n",
       "13                                 NaN                                  NaN  \n",
       "14                                 NaN                                  NaN  \n",
       "15                                 NaN                                  NaN  \n",
       "16                                 NaN                                  NaN  \n",
       "17                                 NaN                                  NaN  "
      ]
     },
     "execution_count": 36,
     "metadata": {},
     "output_type": "execute_result"
    }
   ],
   "source": [
    "Result"
   ]
  },
  {
   "cell_type": "code",
   "execution_count": 37,
   "metadata": {},
   "outputs": [],
   "source": [
    "Result.to_csv('Result.csv', index = False)"
   ]
  },
  {
   "cell_type": "code",
   "execution_count": null,
   "metadata": {},
   "outputs": [],
   "source": []
  }
 ],
 "metadata": {
  "kernelspec": {
   "display_name": "Python 3",
   "language": "python",
   "name": "python3"
  },
  "language_info": {
   "codemirror_mode": {
    "name": "ipython",
    "version": 3
   },
   "file_extension": ".py",
   "mimetype": "text/x-python",
   "name": "python",
   "nbconvert_exporter": "python",
   "pygments_lexer": "ipython3",
   "version": "3.7.1"
  }
 },
 "nbformat": 4,
 "nbformat_minor": 2
}
