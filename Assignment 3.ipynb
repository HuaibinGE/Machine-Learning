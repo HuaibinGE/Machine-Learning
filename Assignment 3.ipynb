{
 "cells": [
  {
   "cell_type": "markdown",
   "metadata": {},
   "source": [
    "# Huaibin Ge"
   ]
  },
  {
   "cell_type": "markdown",
   "metadata": {},
   "source": [
    "# Assignment 3"
   ]
  },
  {
   "cell_type": "code",
   "execution_count": 1,
   "metadata": {},
   "outputs": [],
   "source": [
    "import pandas as pd\n",
    "import numpy as np\n",
    "import matplotlib.pyplot as plt\n",
    "%matplotlib inline"
   ]
  },
  {
   "cell_type": "code",
   "execution_count": 2,
   "metadata": {},
   "outputs": [],
   "source": [
    "data = pd.read_csv('./hw3_data.csv')"
   ]
  },
  {
   "cell_type": "code",
   "execution_count": 3,
   "metadata": {},
   "outputs": [],
   "source": [
    "feature = data.iloc[:,:2]\n",
    "actual_ys = data.iloc[:, 2]"
   ]
  },
  {
   "cell_type": "code",
   "execution_count": 4,
   "metadata": {},
   "outputs": [],
   "source": [
    "feature = np.array(feature)\n",
    "actual_ys = np.array(actual_ys)"
   ]
  },
  {
   "cell_type": "code",
   "execution_count": 5,
   "metadata": {},
   "outputs": [
    {
     "data": {
      "text/plain": [
       "(10000, 2)"
      ]
     },
     "execution_count": 5,
     "metadata": {},
     "output_type": "execute_result"
    }
   ],
   "source": [
    "feature.shape"
   ]
  },
  {
   "cell_type": "code",
   "execution_count": 6,
   "metadata": {},
   "outputs": [
    {
     "data": {
      "text/plain": [
       "2"
      ]
     },
     "execution_count": 6,
     "metadata": {},
     "output_type": "execute_result"
    }
   ],
   "source": [
    "feature.shape[1]"
   ]
  },
  {
   "cell_type": "markdown",
   "metadata": {},
   "source": [
    "## a) Scratch sigmoid function"
   ]
  },
  {
   "cell_type": "code",
   "execution_count": 7,
   "metadata": {},
   "outputs": [],
   "source": [
    "# def sigmoid(weights, features):\n",
    "    \n",
    "#     value = []\n",
    "    \n",
    "#     for observation in features:\n",
    "#         linear_function = weights[0]\n",
    "#         for i in range(len(observation)):\n",
    "#             linear_function += weights[i+1]*observation[i]\n",
    "#         sigmoid_value = 1/(1+np.exp(linear_function))\n",
    "#         value.append(sigmoid_value)\n",
    "        \n",
    "#     return value"
   ]
  },
  {
   "cell_type": "code",
   "execution_count": 8,
   "metadata": {},
   "outputs": [],
   "source": [
    "# for one observation return one sigmoid probability value\n",
    "def sigmoid(weights, features):\n",
    "    linear_function = weights[0]\n",
    "    for i in range(len(features)):\n",
    "        linear_function += weights[i+1]*features[i]\n",
    "    sigmoid_value = 1/(1+np.exp(-linear_function))\n",
    "    return sigmoid_value"
   ]
  },
  {
   "cell_type": "markdown",
   "metadata": {},
   "source": [
    "## b) Scratch log-likelkihood function"
   ]
  },
  {
   "cell_type": "code",
   "execution_count": 9,
   "metadata": {},
   "outputs": [],
   "source": [
    "def log_likelihood(weights, features, actual_ys):\n",
    "    \n",
    "    log_function = 0\n",
    "    for j in range(len(features)):\n",
    "        observation = features[j]\n",
    "        \n",
    "        linear_function = weights[0]\n",
    "        for i in range(len(observation)):\n",
    "            linear_function += weights[i+1]*observation[i]\n",
    "            \n",
    "        log_function += -np.log(1+np.exp(linear_function)) + actual_ys[j]*linear_function\n",
    "        #value.append(log_function)\n",
    "        \n",
    "    return log_function\n",
    "        "
   ]
  },
  {
   "cell_type": "markdown",
   "metadata": {},
   "source": [
    "## c) Scratch gradient descent"
   ]
  },
  {
   "cell_type": "code",
   "execution_count": 10,
   "metadata": {},
   "outputs": [],
   "source": [
    "def learn_weights(actual_ys, features, num_iterations, learning_rate):\n",
    "    initial_weights = [0]*(features.shape[1]+1)\n",
    "    new_weight = [0]*(features.shape[1]+1)\n",
    "    log = []\n",
    "    \n",
    "    num_feartures = features.shape[1]\n",
    "    num_points = features.shape[0]\n",
    "        \n",
    "    for i in range(num_iterations):\n",
    "\n",
    "        for num_f in range(num_feartures):\n",
    "            b0  = 0\n",
    "            bj = 0\n",
    "            \n",
    "            # gradient for each feature\n",
    "            for j in range(num_points):\n",
    "                observation = features[j]\n",
    "                if num_f == 0:\n",
    "                    b0 += actual_ys[j]-sigmoid(initial_weights, observation)\n",
    "                bj += (actual_ys[j]-sigmoid(initial_weights, observation))*features[j][num_f]\n",
    "            \n",
    "            # weight for each feature\n",
    "            if num_f == 0:\n",
    "                new_weight[0] += b0*learning_rate\n",
    "            new_weight[num_f+1] += bj*learning_rate\n",
    "            \n",
    "        initial_weights = new_weight\n",
    "        \n",
    "        \n",
    "        if i % 1000 == 0:\n",
    "            log.append(log_likelihood(initial_weights, features, actual_ys))\n",
    "            print(log_likelihood(initial_weights, features, actual_ys))\n",
    "    \n",
    "    return new_weight, log"
   ]
  },
  {
   "cell_type": "code",
   "execution_count": 11,
   "metadata": {},
   "outputs": [
    {
     "data": {
      "text/plain": [
       "-1.2471066000000002"
      ]
     },
     "execution_count": 11,
     "metadata": {},
     "output_type": "execute_result"
    }
   ],
   "source": [
    "feature[2,1]"
   ]
  },
  {
   "cell_type": "code",
   "execution_count": 12,
   "metadata": {},
   "outputs": [
    {
     "data": {
      "text/plain": [
       "(10000, 2)"
      ]
     },
     "execution_count": 12,
     "metadata": {},
     "output_type": "execute_result"
    }
   ],
   "source": [
    "feature.shape"
   ]
  },
  {
   "cell_type": "code",
   "execution_count": 13,
   "metadata": {},
   "outputs": [
    {
     "data": {
      "text/plain": [
       "(10000, 2)"
      ]
     },
     "execution_count": 13,
     "metadata": {},
     "output_type": "execute_result"
    }
   ],
   "source": [
    "feature.shape"
   ]
  },
  {
   "cell_type": "code",
   "execution_count": 15,
   "metadata": {},
   "outputs": [
    {
     "name": "stdout",
     "output_type": "stream",
     "text": [
      "-4346.264779679935\n",
      "-239.6887556895856\n",
      "-194.06744858451182\n",
      "-176.45303739518187\n",
      "-166.95004138185567\n",
      "-160.9910457704658\n",
      "-156.91573624500117\n",
      "-153.96608682560392\n",
      "-151.74400212488916\n",
      "-150.01942210807445\n"
     ]
    }
   ],
   "source": [
    "weight, log = learn_weights(actual_ys, feature, 10000, 0.00005)"
   ]
  },
  {
   "cell_type": "code",
   "execution_count": 16,
   "metadata": {},
   "outputs": [
    {
     "data": {
      "text/plain": [
       "[<matplotlib.lines.Line2D at 0x11dd662e8>]"
      ]
     },
     "execution_count": 16,
     "metadata": {},
     "output_type": "execute_result"
    },
    {
     "data": {
      "image/png": "[encoded data removed]",
      "text/plain": [
       "<Figure size 432x288 with 1 Axes>"
      ]
     },
     "metadata": {
      "needs_background": "light"
     },
     "output_type": "display_data"
    }
   ],
   "source": [
    "plt.plot(log)"
   ]
  },
  {
   "cell_type": "code",
   "execution_count": 17,
   "metadata": {},
   "outputs": [
    {
     "name": "stdout",
     "output_type": "stream",
     "text": [
      "The highest log-likelihood is -150.019\n"
     ]
    }
   ],
   "source": [
    "print('The highest log-likelihood is', round(max(log),3))"
   ]
  },
  {
   "cell_type": "markdown",
   "metadata": {},
   "source": [
    "# Bonus: Scratch Logistic Regression"
   ]
  },
  {
   "cell_type": "code",
   "execution_count": 19,
   "metadata": {},
   "outputs": [
    {
     "data": {
      "text/plain": [
       "[-10.884660755966964, -3.921478422833348, 6.441858713399884]"
      ]
     },
     "execution_count": 19,
     "metadata": {},
     "output_type": "execute_result"
    }
   ],
   "source": [
    "weight"
   ]
  },
  {
   "cell_type": "code",
   "execution_count": 20,
   "metadata": {},
   "outputs": [],
   "source": [
    "def logistic_regression(weights, features, T):\n",
    "    predict = []\n",
    "    for observation in features:\n",
    "        linear = weights[0]\n",
    "        for i in range(len(observation)):\n",
    "            linear += weights[i+1]*observation[i]\n",
    "        sigmoid = 1/(1+np.exp(-linear))\n",
    "        if sigmoid > T:\n",
    "            predict.append(1)\n",
    "        else:\n",
    "            predict.append(0)\n",
    "    return predict\n",
    "    "
   ]
  },
  {
   "cell_type": "code",
   "execution_count": 21,
   "metadata": {},
   "outputs": [],
   "source": [
    "predict_logistic = logistic_regression(weight, feature, 0.5)"
   ]
  },
  {
   "cell_type": "code",
   "execution_count": 22,
   "metadata": {},
   "outputs": [
    {
     "data": {
      "text/plain": [
       "10000"
      ]
     },
     "execution_count": 22,
     "metadata": {},
     "output_type": "execute_result"
    }
   ],
   "source": [
    "len(predict_logistic)"
   ]
  },
  {
   "cell_type": "code",
   "execution_count": 23,
   "metadata": {},
   "outputs": [],
   "source": [
    "from sklearn.metrics import f1_score"
   ]
  },
  {
   "cell_type": "code",
   "execution_count": 24,
   "metadata": {},
   "outputs": [
    {
     "data": {
      "text/plain": [
       "0.9949015295411376"
      ]
     },
     "execution_count": 24,
     "metadata": {},
     "output_type": "execute_result"
    }
   ],
   "source": [
    "f1_score(actual_ys,predict_logistic)"
   ]
  },
  {
   "cell_type": "code",
   "execution_count": null,
   "metadata": {},
   "outputs": [],
   "source": []
  }
 ],
 "metadata": {
  "kernelspec": {
   "display_name": "Python 3",
   "language": "python",
   "name": "python3"
  },
  "language_info": {
   "codemirror_mode": {
    "name": "ipython",
    "version": 3
   },
   "file_extension": ".py",
   "mimetype": "text/x-python",
   "name": "python",
   "nbconvert_exporter": "python",
   "pygments_lexer": "ipython3",
   "version": "3.7.1"
  }
 },
 "nbformat": 4,
 "nbformat_minor": 2
}
