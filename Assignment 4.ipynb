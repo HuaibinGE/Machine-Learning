{
 "cells": [
  {
   "cell_type": "markdown",
   "metadata": {},
   "source": [
    "# Huaibin Ge"
   ]
  },
  {
   "cell_type": "code",
   "execution_count": 1,
   "metadata": {},
   "outputs": [],
   "source": [
    "import pandas as pd\n",
    "import numpy as np"
   ]
  },
  {
   "cell_type": "code",
   "execution_count": 33,
   "metadata": {},
   "outputs": [],
   "source": [
    "data = pd.read_csv(\"./hw4_data1.csv\")"
   ]
  },
  {
   "cell_type": "code",
   "execution_count": 34,
   "metadata": {},
   "outputs": [
    {
     "data": {
      "text/html": [
       "<div>\n",
       "<style scoped>\n",
       "    .dataframe tbody tr th:only-of-type {\n",
       "        vertical-align: middle;\n",
       "    }\n",
       "\n",
       "    .dataframe tbody tr th {\n",
       "        vertical-align: top;\n",
       "    }\n",
       "\n",
       "    .dataframe thead th {\n",
       "        text-align: right;\n",
       "    }\n",
       "</style>\n",
       "<table border=\"1\" class=\"dataframe\">\n",
       "  <thead>\n",
       "    <tr style=\"text-align: right;\">\n",
       "      <th></th>\n",
       "      <th>x1</th>\n",
       "      <th>x2</th>\n",
       "    </tr>\n",
       "  </thead>\n",
       "  <tbody>\n",
       "    <tr>\n",
       "      <th>0</th>\n",
       "      <td>-0.201517</td>\n",
       "      <td>-0.683358</td>\n",
       "    </tr>\n",
       "    <tr>\n",
       "      <th>1</th>\n",
       "      <td>0.374519</td>\n",
       "      <td>-0.828082</td>\n",
       "    </tr>\n",
       "    <tr>\n",
       "      <th>2</th>\n",
       "      <td>-0.161895</td>\n",
       "      <td>-1.247107</td>\n",
       "    </tr>\n",
       "    <tr>\n",
       "      <th>3</th>\n",
       "      <td>0.037711</td>\n",
       "      <td>-0.047303</td>\n",
       "    </tr>\n",
       "    <tr>\n",
       "      <th>4</th>\n",
       "      <td>-0.260479</td>\n",
       "      <td>1.770204</td>\n",
       "    </tr>\n",
       "  </tbody>\n",
       "</table>\n",
       "</div>"
      ],
      "text/plain": [
       "         x1        x2\n",
       "0 -0.201517 -0.683358\n",
       "1  0.374519 -0.828082\n",
       "2 -0.161895 -1.247107\n",
       "3  0.037711 -0.047303\n",
       "4 -0.260479  1.770204"
      ]
     },
     "execution_count": 34,
     "metadata": {},
     "output_type": "execute_result"
    }
   ],
   "source": [
    "data.head()"
   ]
  },
  {
   "cell_type": "code",
   "execution_count": 35,
   "metadata": {},
   "outputs": [],
   "source": [
    "data = data.values.tolist()"
   ]
  },
  {
   "cell_type": "code",
   "execution_count": 36,
   "metadata": {},
   "outputs": [
    {
     "data": {
      "text/plain": [
       "list"
      ]
     },
     "execution_count": 36,
     "metadata": {},
     "output_type": "execute_result"
    }
   ],
   "source": [
    "type(data)"
   ]
  },
  {
   "cell_type": "markdown",
   "metadata": {},
   "source": [
    "## a) Implement K-means/median"
   ]
  },
  {
   "cell_type": "code",
   "execution_count": 6,
   "metadata": {},
   "outputs": [],
   "source": [
    "def K_means_family(datapoints, K, centroid_method, initialization_method, max_iterations):\n",
    "    \n",
    "    # initialization_method\n",
    "    if initialization_method == \"Random Split Initialization\":\n",
    "        np.random.shuffle(datapoints)\n",
    "        Clusters = np.array_split(datapoints, K, axis =0)\n",
    "        clusters = [cluster.tolist() for cluster in Clusters]\n",
    "        #print(clusters)\n",
    "        while max_iterations:\n",
    "            # calculate centroid\n",
    "            centroid = []\n",
    "            new_centroid = []\n",
    "            for cluster in clusters:\n",
    "                #print(cluster)\n",
    "                x = [point[0] for point in cluster]\n",
    "                y = [point[1] for point in cluster]\n",
    "                if centroid_method == \"Means\":\n",
    "                    center = [np.mean(x), np.mean(y)]\n",
    "                    centroid.append(center)\n",
    "                elif centroid_method == \"Median\":\n",
    "                    center = [np.median(x), np.median(y)]\n",
    "                    centroid.append(center)\n",
    "                    \n",
    "            # assign piont to the right cluster\n",
    "            for cluster_number in range(len(clusters)):\n",
    "                for point in clusters[cluster_number]:\n",
    "                    dis = abs(np.array(centroid)-np.array(point))\n",
    "                    distance = [sum(d) for d in dis]\n",
    "                    #print(distance)\n",
    "                    belong_cluster, = np.where(distance == min(distance))\n",
    "                    #print(int(belong_cluster))\n",
    "                    clusters[cluster_number].remove(point)\n",
    "                    clusters[int(belong_cluster)].append(point)\n",
    "                # calcualte new centroid\n",
    "                x = [point[0] for point in clusters[cluster_number]]\n",
    "                y = [point[1] for point in clusters[cluster_number]]\n",
    "                if centroid_method == \"Means\":\n",
    "                    center = [np.mean(x), np.mean(y)]\n",
    "                    new_centroid.append(center)\n",
    "                elif centroid_method == \"Median\":\n",
    "                    center = (np.median(x), np.median(y))\n",
    "                    new_centroid.append(center)\n",
    "            if new_centroid == centroid:\n",
    "                break\n",
    "            else:\n",
    "                max_iterations = max_iterations-1\n",
    "        \n",
    "    elif initialization_method == \"Random Seed Selection Method\":\n",
    "        clusters = []\n",
    "        np.random.shuffle(datapoints)\n",
    "        for i in range(K):\n",
    "            clusters.append([datapoints[i]])\n",
    "        remain_datapoints = np.delete(datapoints, range(K), axis = 0)\n",
    "        for point in remain_datapoints:\n",
    "            distance = []\n",
    "            for cluster in clusters:\n",
    "                x = [p[0] for p in cluster]\n",
    "                y = [p[1] for p in cluster]\n",
    "                if centroid_method == \"Means\":\n",
    "                    center = [np.mean(x), np.mean(y)]\n",
    "                elif centroid_method == \"Median\":\n",
    "                    center = [np.median(x), np.median(y)]\n",
    "                dis = sum(abs(np.array(center) - np.array(point)))\n",
    "                distance.append(dis)\n",
    "            belong, = np.where(min(distance))\n",
    "            clusters[int(belong)].append(point)\n",
    "           \n",
    "    return clusters\n",
    "        "
   ]
  },
  {
   "cell_type": "markdown",
   "metadata": {},
   "source": [
    "## b) Silhouette score"
   ]
  },
  {
   "cell_type": "code",
   "execution_count": 14,
   "metadata": {},
   "outputs": [],
   "source": [
    "def Silhouette(list_of_clusters):\n",
    "    \n",
    "    Sx = []\n",
    "    \n",
    "    for cluster in list_of_clusters:\n",
    "        remain_clusters = [other_cluster for other_cluster in list_of_clusters if other_cluster!= cluster]\n",
    "        for point in cluster:\n",
    "            distance_in_class = []\n",
    "            cluster_without_point = [p for p in cluster if p!= point]\n",
    "        \n",
    "            \n",
    "            # distance in class\n",
    "            for other_point in cluster_without_point:\n",
    "                d_inclass = sum(abs(np.array(other_point) - np.array(point)))\n",
    "                distance_in_class.append(d_inclass)\n",
    "                \n",
    "            # distance with class\n",
    "            distance_with_class_record = []\n",
    "            for remain_cluster in remain_clusters:\n",
    "                distance_with_class = []\n",
    "                for remain_point in remain_cluster:\n",
    "                    d_withclass = sum(abs(np.array(remain_point) - np.array(point)))\n",
    "                    distance_with_class.append(d_withclass)\n",
    "                    #print(distance_with_class)\n",
    "                distance_with_class_record.append(sum(distance_with_class)/len(distance_with_class))\n",
    "            #print(distance_with_class_record)    \n",
    "            ax = sum(distance_in_class)/len(distance_in_class)\n",
    "            bx = min(distance_with_class_record)\n",
    "            #print(distance_with_class_record)\n",
    "            #print(bx)\n",
    "            sx = (bx-ax)/max(ax,bx)\n",
    "            Sx.append(sx)\n",
    "    Silhouette_score = sum(Sx)\n",
    "    \n",
    "    return Silhouette_score\n",
    "    "
   ]
  },
  {
   "cell_type": "markdown",
   "metadata": {},
   "source": [
    "## c) Finding Best K"
   ]
  },
  {
   "cell_type": "code",
   "execution_count": 16,
   "metadata": {},
   "outputs": [],
   "source": [
    "cluster_2 = K_means_family(data, 2, \"Means\", \"Random Split Initialization\",100)"
   ]
  },
  {
   "cell_type": "code",
   "execution_count": 17,
   "metadata": {},
   "outputs": [
    {
     "data": {
      "text/plain": [
       "30.645672726054283"
      ]
     },
     "execution_count": 17,
     "metadata": {},
     "output_type": "execute_result"
    }
   ],
   "source": [
    "Silhouette(cluster_2)"
   ]
  },
  {
   "cell_type": "code",
   "execution_count": 18,
   "metadata": {},
   "outputs": [],
   "source": [
    "cluster_3 = K_means_family(data, 3, \"Means\", \"Random Split Initialization\",100)"
   ]
  },
  {
   "cell_type": "code",
   "execution_count": 19,
   "metadata": {},
   "outputs": [
    {
     "data": {
      "text/plain": [
       "28.980536493338228"
      ]
     },
     "execution_count": 19,
     "metadata": {},
     "output_type": "execute_result"
    }
   ],
   "source": [
    "Silhouette(cluster_3)"
   ]
  },
  {
   "cell_type": "code",
   "execution_count": 20,
   "metadata": {},
   "outputs": [],
   "source": [
    "cluster_4 = K_means_family(data, 4, \"Means\", \"Random Split Initialization\",100)"
   ]
  },
  {
   "cell_type": "code",
   "execution_count": 21,
   "metadata": {},
   "outputs": [
    {
     "data": {
      "text/plain": [
       "25.72326161207576"
      ]
     },
     "execution_count": 21,
     "metadata": {},
     "output_type": "execute_result"
    }
   ],
   "source": [
    "Silhouette(cluster_4)"
   ]
  },
  {
   "cell_type": "code",
   "execution_count": 22,
   "metadata": {},
   "outputs": [],
   "source": [
    "cluster_5 = K_means_family(data, 5, \"Means\", \"Random Split Initialization\",100)"
   ]
  },
  {
   "cell_type": "code",
   "execution_count": 23,
   "metadata": {},
   "outputs": [
    {
     "data": {
      "text/plain": [
       "22.702682091058904"
      ]
     },
     "execution_count": 23,
     "metadata": {},
     "output_type": "execute_result"
    }
   ],
   "source": [
    "Silhouette(cluster_5)"
   ]
  },
  {
   "cell_type": "markdown",
   "metadata": {},
   "source": [
    "The best K is 2 because it generates largest Silhouette score."
   ]
  },
  {
   "cell_type": "markdown",
   "metadata": {},
   "source": [
    "## Bonus: Hierarchical Agglomerative Clustering"
   ]
  },
  {
   "cell_type": "code",
   "execution_count": 37,
   "metadata": {},
   "outputs": [],
   "source": [
    "import copy"
   ]
  },
  {
   "cell_type": "code",
   "execution_count": 67,
   "metadata": {},
   "outputs": [],
   "source": [
    "def HAC (datapoint, distance_function):\n",
    "    datapoint = [[p] for p in datapoint]\n",
    "    datapoints = copy.deepcopy(datapoint)\n",
    "    data = copy.deepcopy(datapoint)\n",
    "    history = []\n",
    "    diameters = []\n",
    "    \n",
    "    def distance_points(x,y):\n",
    "        dis = sum(abs(np.array(x) - np.array(y)))\n",
    "        return dis\n",
    "    \n",
    "    while len(datapoints) != 1:\n",
    "        distance = {}\n",
    "        k = []\n",
    "        v = []\n",
    "        for i in range(len(datapoints)):\n",
    "            for j in range(len(datapoints)):\n",
    "                if i != j:\n",
    "                    dis = []\n",
    "                    for p1 in datapoints[i]:\n",
    "                        for p2 in datapoints[j]:\n",
    "                            dis.append(distance_points(p1,p2))\n",
    "                    #print(dis)\n",
    "                    if distance_function == \"MIN\":\n",
    "                        d = min(dis)\n",
    "                    elif distance_function == \"MAX\":\n",
    "                        d = max(dis)\n",
    "                    elif distance_function == \"AVG\":\n",
    "                        d = np.mean(dis)\n",
    "                    distance[i,j] = d\n",
    "        #print(distance)\n",
    "        i,j = list(distance.keys())[list(distance.values()).index(min(distance.values()))]\n",
    "        diameters.append(min(distance.values()))\n",
    "        a = datapoints[i]\n",
    "        b = datapoints[j]\n",
    "        m = a+b\n",
    "        history.append(m)\n",
    "        datapoints.remove(a)\n",
    "        datapoints.remove(b) \n",
    "        datapoints.append(m)\n",
    "    \n",
    "    \n",
    "    \n",
    "    cluster_history = data + history\n",
    "    \n",
    "    return cluster_history, diameters"
   ]
  },
  {
   "cell_type": "code",
   "execution_count": 68,
   "metadata": {},
   "outputs": [],
   "source": [
    "cluster_history,diameters = HAC(data, \"AVG\")"
   ]
  },
  {
   "cell_type": "code",
   "execution_count": 69,
   "metadata": {},
   "outputs": [
    {
     "data": {
      "text/plain": [
       "[[[-0.20151729999999998, -0.6833581999999999]],\n",
       " [[0.37451947, -0.8280822]],\n",
       " [[-0.16189468, -1.2471066000000002]],\n",
       " [[0.037710957, -0.047302842000000005]],\n",
       " [[-0.26047906, 1.770204]],\n",
       " [[0.39217335, 0.7262509]],\n",
       " [[-0.595546, -1.4548001]],\n",
       " [[-1.2124728999999999, -1.2988458999999999]],\n",
       " [[-0.62402, -1.2702229999999999]],\n",
       " [[0.5353097, 1.390765]],\n",
       " [[1.4814519, 3.5796309999999996]],\n",
       " [[1.2141826, 3.5870629999999997]],\n",
       " [[3.8623366000000003, 4.2972736]],\n",
       " [[4.205326, 4.9409523]],\n",
       " [[4.3041506, 5.8463483]],\n",
       " [[2.5081396000000002, 4.4804144]],\n",
       " [[1.9347998, 3.663017]],\n",
       " [[2.211607, 4.263404]],\n",
       " [[3.1851852000000003, 4.6804122999999995]],\n",
       " [[2.2065609, 3.7271812000000004]],\n",
       " [[4.572374, 6.4975176]],\n",
       " [[2.637779, 4.8631096]],\n",
       " [[4.522715, 6.1088676]],\n",
       " [[3.3148953999999997, 6.9001]],\n",
       " [[6.754939599999999, 9.133338]],\n",
       " [[3.4757779, 6.089272]],\n",
       " [[4.326521, 7.821588]],\n",
       " [[3.0818818, 5.045526000000001]],\n",
       " [[4.10377, 5.597295]],\n",
       " [[4.0034175, 5.902063]],\n",
       " [[8.99092, 17.243813]],\n",
       " [[9.838419, 18.3177]],\n",
       " [[9.401110000000001, 17.558595999999998]],\n",
       " [[11.066353999999999, 19.794117]],\n",
       " [[11.447869, 18.734001]],\n",
       " [[9.917442, 18.279497]],\n",
       " [[9.279882, 16.0865]],\n",
       " [[8.04521, 17.202364000000003]],\n",
       " [[10.502788, 18.360403]],\n",
       " [[10.748184, 18.321587]],\n",
       " [[9.838419, 18.3177], [9.917442, 18.279497]],\n",
       " [[-0.595546, -1.4548001], [-0.62402, -1.2702229999999999]],\n",
       " [[1.4814519, 3.5796309999999996], [1.2141826, 3.5870629999999997]],\n",
       " [[10.502788, 18.360403], [10.748184, 18.321587]],\n",
       " [[1.9347998, 3.663017], [2.2065609, 3.7271812000000004]],\n",
       " [[4.3041506, 5.8463483], [4.0034175, 5.902063]],\n",
       " [[4.10377, 5.597295], [4.3041506, 5.8463483], [4.0034175, 5.902063]],\n",
       " [[4.572374, 6.4975176], [4.522715, 6.1088676]],\n",
       " [[3.1851852000000003, 4.6804122999999995], [3.0818818, 5.045526000000001]],\n",
       " [[2.5081396000000002, 4.4804144], [2.637779, 4.8631096]],\n",
       " [[-0.16189468, -1.2471066000000002],\n",
       "  [-0.595546, -1.4548001],\n",
       "  [-0.62402, -1.2702229999999999]],\n",
       " [[2.211607, 4.263404],\n",
       "  [1.9347998, 3.663017],\n",
       "  [2.2065609, 3.7271812000000004]],\n",
       " [[-0.20151729999999998, -0.6833581999999999], [0.37451947, -0.8280822]],\n",
       " [[8.99092, 17.243813], [9.401110000000001, 17.558595999999998]],\n",
       " [[9.838419, 18.3177],\n",
       "  [9.917442, 18.279497],\n",
       "  [10.502788, 18.360403],\n",
       "  [10.748184, 18.321587]],\n",
       " [[0.39217335, 0.7262509], [0.5353097, 1.390765]],\n",
       " [[-1.2124728999999999, -1.2988458999999999],\n",
       "  [-0.16189468, -1.2471066000000002],\n",
       "  [-0.595546, -1.4548001],\n",
       "  [-0.62402, -1.2702229999999999]],\n",
       " [[3.1851852000000003, 4.6804122999999995],\n",
       "  [3.0818818, 5.045526000000001],\n",
       "  [2.5081396000000002, 4.4804144],\n",
       "  [2.637779, 4.8631096]],\n",
       " [[4.10377, 5.597295],\n",
       "  [4.3041506, 5.8463483],\n",
       "  [4.0034175, 5.902063],\n",
       "  [4.572374, 6.4975176],\n",
       "  [4.522715, 6.1088676]],\n",
       " [[3.3148953999999997, 6.9001], [3.4757779, 6.089272]],\n",
       " [[3.8623366000000003, 4.2972736], [4.205326, 4.9409523]],\n",
       " [[0.037710957, -0.047302842000000005],\n",
       "  [-0.20151729999999998, -0.6833581999999999],\n",
       "  [0.37451947, -0.8280822]],\n",
       " [[1.4814519, 3.5796309999999996],\n",
       "  [1.2141826, 3.5870629999999997],\n",
       "  [2.211607, 4.263404],\n",
       "  [1.9347998, 3.663017],\n",
       "  [2.2065609, 3.7271812000000004]],\n",
       " [[8.04521, 17.202364000000003],\n",
       "  [8.99092, 17.243813],\n",
       "  [9.401110000000001, 17.558595999999998]],\n",
       " [[-0.26047906, 1.770204], [0.39217335, 0.7262509], [0.5353097, 1.390765]],\n",
       " [[11.066353999999999, 19.794117], [11.447869, 18.734001]],\n",
       " [[4.10377, 5.597295],\n",
       "  [4.3041506, 5.8463483],\n",
       "  [4.0034175, 5.902063],\n",
       "  [4.572374, 6.4975176],\n",
       "  [4.522715, 6.1088676],\n",
       "  [3.3148953999999997, 6.9001],\n",
       "  [3.4757779, 6.089272]],\n",
       " [[-1.2124728999999999, -1.2988458999999999],\n",
       "  [-0.16189468, -1.2471066000000002],\n",
       "  [-0.595546, -1.4548001],\n",
       "  [-0.62402, -1.2702229999999999],\n",
       "  [0.037710957, -0.047302842000000005],\n",
       "  [-0.20151729999999998, -0.6833581999999999],\n",
       "  [0.37451947, -0.8280822]],\n",
       " [[3.1851852000000003, 4.6804122999999995],\n",
       "  [3.0818818, 5.045526000000001],\n",
       "  [2.5081396000000002, 4.4804144],\n",
       "  [2.637779, 4.8631096],\n",
       "  [3.8623366000000003, 4.2972736],\n",
       "  [4.205326, 4.9409523]],\n",
       " [[9.279882, 16.0865],\n",
       "  [8.04521, 17.202364000000003],\n",
       "  [8.99092, 17.243813],\n",
       "  [9.401110000000001, 17.558595999999998]],\n",
       " [[9.838419, 18.3177],\n",
       "  [9.917442, 18.279497],\n",
       "  [10.502788, 18.360403],\n",
       "  [10.748184, 18.321587],\n",
       "  [11.066353999999999, 19.794117],\n",
       "  [11.447869, 18.734001]],\n",
       " [[4.326521, 7.821588],\n",
       "  [4.10377, 5.597295],\n",
       "  [4.3041506, 5.8463483],\n",
       "  [4.0034175, 5.902063],\n",
       "  [4.572374, 6.4975176],\n",
       "  [4.522715, 6.1088676],\n",
       "  [3.3148953999999997, 6.9001],\n",
       "  [3.4757779, 6.089272]],\n",
       " [[1.4814519, 3.5796309999999996],\n",
       "  [1.2141826, 3.5870629999999997],\n",
       "  [2.211607, 4.263404],\n",
       "  [1.9347998, 3.663017],\n",
       "  [2.2065609, 3.7271812000000004],\n",
       "  [3.1851852000000003, 4.6804122999999995],\n",
       "  [3.0818818, 5.045526000000001],\n",
       "  [2.5081396000000002, 4.4804144],\n",
       "  [2.637779, 4.8631096],\n",
       "  [3.8623366000000003, 4.2972736],\n",
       "  [4.205326, 4.9409523]],\n",
       " [[-1.2124728999999999, -1.2988458999999999],\n",
       "  [-0.16189468, -1.2471066000000002],\n",
       "  [-0.595546, -1.4548001],\n",
       "  [-0.62402, -1.2702229999999999],\n",
       "  [0.037710957, -0.047302842000000005],\n",
       "  [-0.20151729999999998, -0.6833581999999999],\n",
       "  [0.37451947, -0.8280822],\n",
       "  [-0.26047906, 1.770204],\n",
       "  [0.39217335, 0.7262509],\n",
       "  [0.5353097, 1.390765]],\n",
       " [[9.279882, 16.0865],\n",
       "  [8.04521, 17.202364000000003],\n",
       "  [8.99092, 17.243813],\n",
       "  [9.401110000000001, 17.558595999999998],\n",
       "  [9.838419, 18.3177],\n",
       "  [9.917442, 18.279497],\n",
       "  [10.502788, 18.360403],\n",
       "  [10.748184, 18.321587],\n",
       "  [11.066353999999999, 19.794117],\n",
       "  [11.447869, 18.734001]],\n",
       " [[4.326521, 7.821588],\n",
       "  [4.10377, 5.597295],\n",
       "  [4.3041506, 5.8463483],\n",
       "  [4.0034175, 5.902063],\n",
       "  [4.572374, 6.4975176],\n",
       "  [4.522715, 6.1088676],\n",
       "  [3.3148953999999997, 6.9001],\n",
       "  [3.4757779, 6.089272],\n",
       "  [1.4814519, 3.5796309999999996],\n",
       "  [1.2141826, 3.5870629999999997],\n",
       "  [2.211607, 4.263404],\n",
       "  [1.9347998, 3.663017],\n",
       "  [2.2065609, 3.7271812000000004],\n",
       "  [3.1851852000000003, 4.6804122999999995],\n",
       "  [3.0818818, 5.045526000000001],\n",
       "  [2.5081396000000002, 4.4804144],\n",
       "  [2.637779, 4.8631096],\n",
       "  [3.8623366000000003, 4.2972736],\n",
       "  [4.205326, 4.9409523]],\n",
       " [[6.754939599999999, 9.133338],\n",
       "  [4.326521, 7.821588],\n",
       "  [4.10377, 5.597295],\n",
       "  [4.3041506, 5.8463483],\n",
       "  [4.0034175, 5.902063],\n",
       "  [4.572374, 6.4975176],\n",
       "  [4.522715, 6.1088676],\n",
       "  [3.3148953999999997, 6.9001],\n",
       "  [3.4757779, 6.089272],\n",
       "  [1.4814519, 3.5796309999999996],\n",
       "  [1.2141826, 3.5870629999999997],\n",
       "  [2.211607, 4.263404],\n",
       "  [1.9347998, 3.663017],\n",
       "  [2.2065609, 3.7271812000000004],\n",
       "  [3.1851852000000003, 4.6804122999999995],\n",
       "  [3.0818818, 5.045526000000001],\n",
       "  [2.5081396000000002, 4.4804144],\n",
       "  [2.637779, 4.8631096],\n",
       "  [3.8623366000000003, 4.2972736],\n",
       "  [4.205326, 4.9409523]],\n",
       " [[-1.2124728999999999, -1.2988458999999999],\n",
       "  [-0.16189468, -1.2471066000000002],\n",
       "  [-0.595546, -1.4548001],\n",
       "  [-0.62402, -1.2702229999999999],\n",
       "  [0.037710957, -0.047302842000000005],\n",
       "  [-0.20151729999999998, -0.6833581999999999],\n",
       "  [0.37451947, -0.8280822],\n",
       "  [-0.26047906, 1.770204],\n",
       "  [0.39217335, 0.7262509],\n",
       "  [0.5353097, 1.390765],\n",
       "  [6.754939599999999, 9.133338],\n",
       "  [4.326521, 7.821588],\n",
       "  [4.10377, 5.597295],\n",
       "  [4.3041506, 5.8463483],\n",
       "  [4.0034175, 5.902063],\n",
       "  [4.572374, 6.4975176],\n",
       "  [4.522715, 6.1088676],\n",
       "  [3.3148953999999997, 6.9001],\n",
       "  [3.4757779, 6.089272],\n",
       "  [1.4814519, 3.5796309999999996],\n",
       "  [1.2141826, 3.5870629999999997],\n",
       "  [2.211607, 4.263404],\n",
       "  [1.9347998, 3.663017],\n",
       "  [2.2065609, 3.7271812000000004],\n",
       "  [3.1851852000000003, 4.6804122999999995],\n",
       "  [3.0818818, 5.045526000000001],\n",
       "  [2.5081396000000002, 4.4804144],\n",
       "  [2.637779, 4.8631096],\n",
       "  [3.8623366000000003, 4.2972736],\n",
       "  [4.205326, 4.9409523]],\n",
       " [[9.279882, 16.0865],\n",
       "  [8.04521, 17.202364000000003],\n",
       "  [8.99092, 17.243813],\n",
       "  [9.401110000000001, 17.558595999999998],\n",
       "  [9.838419, 18.3177],\n",
       "  [9.917442, 18.279497],\n",
       "  [10.502788, 18.360403],\n",
       "  [10.748184, 18.321587],\n",
       "  [11.066353999999999, 19.794117],\n",
       "  [11.447869, 18.734001],\n",
       "  [-1.2124728999999999, -1.2988458999999999],\n",
       "  [-0.16189468, -1.2471066000000002],\n",
       "  [-0.595546, -1.4548001],\n",
       "  [-0.62402, -1.2702229999999999],\n",
       "  [0.037710957, -0.047302842000000005],\n",
       "  [-0.20151729999999998, -0.6833581999999999],\n",
       "  [0.37451947, -0.8280822],\n",
       "  [-0.26047906, 1.770204],\n",
       "  [0.39217335, 0.7262509],\n",
       "  [0.5353097, 1.390765],\n",
       "  [6.754939599999999, 9.133338],\n",
       "  [4.326521, 7.821588],\n",
       "  [4.10377, 5.597295],\n",
       "  [4.3041506, 5.8463483],\n",
       "  [4.0034175, 5.902063],\n",
       "  [4.572374, 6.4975176],\n",
       "  [4.522715, 6.1088676],\n",
       "  [3.3148953999999997, 6.9001],\n",
       "  [3.4757779, 6.089272],\n",
       "  [1.4814519, 3.5796309999999996],\n",
       "  [1.2141826, 3.5870629999999997],\n",
       "  [2.211607, 4.263404],\n",
       "  [1.9347998, 3.663017],\n",
       "  [2.2065609, 3.7271812000000004],\n",
       "  [3.1851852000000003, 4.6804122999999995],\n",
       "  [3.0818818, 5.045526000000001],\n",
       "  [2.5081396000000002, 4.4804144],\n",
       "  [2.637779, 4.8631096],\n",
       "  [3.8623366000000003, 4.2972736],\n",
       "  [4.205326, 4.9409523]]]"
      ]
     },
     "execution_count": 69,
     "metadata": {},
     "output_type": "execute_result"
    }
   ],
   "source": [
    "cluster_history"
   ]
  },
  {
   "cell_type": "code",
   "execution_count": 70,
   "metadata": {},
   "outputs": [
    {
     "data": {
      "text/plain": [
       "[0.11722599999999872,\n",
       " 0.21305110000000005,\n",
       " 0.27470130000000004,\n",
       " 0.28421200000000013,\n",
       " 0.3359253000000004,\n",
       " 0.35644779999999976,\n",
       " 0.4272771999999998,\n",
       " 0.4383090000000003,\n",
       " 0.46841710000000125,\n",
       " 0.5123345999999995,\n",
       " 0.5632932699999997,\n",
       " 0.7092315500000002,\n",
       " 0.72076077,\n",
       " 0.7249730000000003,\n",
       " 0.7899520000000031,\n",
       " 0.80765045,\n",
       " 0.8307581399999998,\n",
       " 0.8431300000000004,\n",
       " 0.9317223,\n",
       " 0.9717105000000004,\n",
       " 0.9866681000000006,\n",
       " 0.9964357429999999,\n",
       " 1.0710257166666672,\n",
       " 1.349645499999995,\n",
       " 1.4359166349999999,\n",
       " 1.4416310000000028,\n",
       " 1.4957847100000001,\n",
       " 1.5234876933333334,\n",
       " 1.5285676750000006,\n",
       " 1.7967116666666663,\n",
       " 1.9496654999999992,\n",
       " 2.097470442857143,\n",
       " 2.3909430533333333,\n",
       " 2.938088309,\n",
       " 3.269294749999999,\n",
       " 3.6103455647727274,\n",
       " 7.517545615789474,\n",
       " 9.2124808055,\n",
       " 22.237893270166666]"
      ]
     },
     "execution_count": 70,
     "metadata": {},
     "output_type": "execute_result"
    }
   ],
   "source": [
    "diameters"
   ]
  },
  {
   "cell_type": "code",
   "execution_count": 71,
   "metadata": {},
   "outputs": [],
   "source": [
    "with open('cluster_history.txt', 'w') as f:\n",
    "    for item in cluster_history:\n",
    "        f.write(\"%s\\n\" % item)"
   ]
  },
  {
   "cell_type": "code",
   "execution_count": 72,
   "metadata": {},
   "outputs": [],
   "source": [
    "with open('diameters.txt', 'w') as f:\n",
    "    for item in diameters:\n",
    "        f.write(\"%s\\n\" % item)"
   ]
  },
  {
   "cell_type": "code",
   "execution_count": null,
   "metadata": {},
   "outputs": [],
   "source": []
  }
 ],
 "metadata": {
  "kernelspec": {
   "display_name": "Python 3",
   "language": "python",
   "name": "python3"
  },
  "language_info": {
   "codemirror_mode": {
    "name": "ipython",
    "version": 3
   },
   "file_extension": ".py",
   "mimetype": "text/x-python",
   "name": "python",
   "nbconvert_exporter": "python",
   "pygments_lexer": "ipython3",
   "version": "3.7.1"
  }
 },
 "nbformat": 4,
 "nbformat_minor": 2
}
